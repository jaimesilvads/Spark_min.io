{
  "nbformat": 4,
  "nbformat_minor": 0,
  "metadata": {
    "colab": {
      "private_outputs": true,
      "provenance": [],
      "authorship_tag": "ABX9TyPkDjih1A00Sm7Ms+FrGonT",
      "include_colab_link": true
    },
    "kernelspec": {
      "name": "python3",
      "display_name": "Python 3"
    },
    "language_info": {
      "name": "python"
    }
  },
  "cells": [
    {
      "cell_type": "markdown",
      "metadata": {
        "id": "view-in-github",
        "colab_type": "text"
      },
      "source": [
        "<a href=\"https://colab.research.google.com/github/jaimesilvads/Spark_min.io/blob/main/SparckComMin_Io.ipynb\" target=\"_parent\"><img src=\"https://colab.research.google.com/assets/colab-badge.svg\" alt=\"Open In Colab\"/></a>"
      ]
    },
    {
      "cell_type": "markdown",
      "source": [
        "# **Importação das bibliotecas necessárias para o processamento**"
      ],
      "metadata": {
        "id": "6iT5LbMQXm4C"
      }
    },
    {
      "cell_type": "code",
      "execution_count": null,
      "metadata": {
        "id": "0NFyvQX6WRlE"
      },
      "outputs": [],
      "source": [
        "# \n",
        "\n",
        "from os.path import abspath\n",
        "from pyspark.sql import SparkSession\n",
        "from pyspark.sql.functions import *\n"
      ]
    },
    {
      "cell_type": "markdown",
      "source": [
        "# **Configuração da sessão Spark**"
      ],
      "metadata": {
        "id": "LxhWD6iAYCU0"
      }
    },
    {
      "cell_type": "code",
      "source": [
        "spark = SparkSession \\\n",
        "    .builder \\\n",
        "    .appName(\"job-1-spark\") \\\n",
        "    .config(\"spark.sql.warehouse.dir\", abspath('spark-warehouse')) \\\n",
        "    .config(\"fs.s3a.endpoint\", \"http://127.0.0.1:9000\") \\\n",
        "    .config(\"fs.s3a.access.key\", \"minioadmin\")\\\n",
        "    .config(\"fs.s3a.secret.key\", \"minioadmin\")\\\n",
        "    .config(\"fs.s3a.impl\",\"org.apache.hadoop.fs.s3a.S3AFileSystem\") \\\n",
        "    .config(\"fs.s3a.path.style.access\", \"True\")\\\n",
        "    .getOrCreate()"
      ],
      "metadata": {
        "id": "T4bPXFDjX6Pq"
      },
      "execution_count": null,
      "outputs": []
    },
    {
      "cell_type": "code",
      "source": [],
      "metadata": {
        "id": "KYu8VzinYX4i"
      },
      "execution_count": null,
      "outputs": []
    },
    {
      "cell_type": "markdown",
      "source": [
        "**definindo o método de logs da aplicação como INFO indicada em ambiente DEV opçoes[INFO,ERROR]**"
      ],
      "metadata": {
        "id": "4lvW4Z28Yep_"
      }
    },
    {
      "cell_type": "code",
      "source": [
        "spark.sparkContext.setLogLevel(\"INFO\")"
      ],
      "metadata": {
        "id": "qamrWlxmYsii"
      },
      "execution_count": null,
      "outputs": []
    },
    {
      "cell_type": "markdown",
      "source": [
        "Carregando os dados do nosso Data Lake"
      ],
      "metadata": {
        "id": "zw76Uy0jY1wT"
      }
    },
    {
      "cell_type": "code",
      "source": [
        "df = spark.read.format(\"csv\")\\\n",
        "    .option(\"header\", \"True\")\\\n",
        "    .option(\"inferSchema\",\"True\")\\\n",
        "    .csv(\"s3a://ingestao/*.csv\")"
      ],
      "metadata": {
        "id": "7LPRomPZY8Sq"
      },
      "execution_count": null,
      "outputs": []
    },
    {
      "cell_type": "code",
      "source": [
        "!pip install hadoop.aws==3.3.1\n",
        "\n"
      ],
      "metadata": {
        "id": "OwSWiF1bZe3U"
      },
      "execution_count": null,
      "outputs": []
    }
  ]
}